{
 "cells": [
  {
   "cell_type": "code",
   "execution_count": 1,
   "metadata": {},
   "outputs": [
    {
     "data": {
      "text/plain": [
       "True"
      ]
     },
     "execution_count": 1,
     "metadata": {},
     "output_type": "execute_result"
    }
   ],
   "source": [
    "#  Carregar chaves de acesso de arquivo .env\n",
    "import os\n",
    "from dotenv import load_dotenv\n",
    "\n",
    "load_dotenv()"
   ]
  },
  {
   "cell_type": "code",
   "execution_count": 3,
   "metadata": {},
   "outputs": [],
   "source": [
    "import azure.cognitiveservices.speech as speechsdk\n",
    "from pydub import AudioSegment\n",
    "\n",
    "def speech_to_text_from_file(file_path, speech_key, service_region):\n",
    "\n",
    "    # Converter o arquivo .m4a para .wav\n",
    "    audio = AudioSegment.from_file(file_path, format=\"m4a\")\n",
    "    wav_file_path = \"temp_audio.wav\"\n",
    "    audio.export(wav_file_path, format=\"wav\")\n",
    "\n",
    "    # Criar uma configuração de fala\n",
    "    speech_config = speechsdk.SpeechConfig(subscription=speech_key, region=service_region)\n",
    "    \n",
    "    # Criar um reconhecedor de fala a partir do arquivo .wav\n",
    "    audio_input = speechsdk.AudioConfig(filename=wav_file_path)\n",
    "    speech_recognizer = speechsdk.SpeechRecognizer(speech_config=speech_config, audio_config=audio_input)\n",
    "\n",
    "    print(\"Processando o arquivo de áudio...\")\n",
    "\n",
    "    # Começar o reconhecimento de fala\n",
    "    result = speech_recognizer.recognize_once()\n",
    "\n",
    "    # Verificar o resultado do reconhecimento\n",
    "    if result.reason == speechsdk.ResultReason.RecognizedSpeech:\n",
    "        print(\"Texto reconhecido: {}\".format(result.text))\n",
    "    elif result.reason == speechsdk.ResultReason.NoMatch:\n",
    "        print(\"Nenhuma correspondência de fala encontrada.\")\n",
    "    elif result.reason == speechsdk.ResultReason.Canceled:\n",
    "        cancellation_details = result.cancellation_details\n",
    "        print(\"Reconhecimento de fala cancelado: {}\".format(cancellation_details.reason))\n",
    "        if cancellation_details.reason == speechsdk.CancellationReason.Error:\n",
    "            print(\"Detalhes do erro: {}\".format(cancellation_details.error_details))\n",
    "    pass"
   ]
  },
  {
   "cell_type": "code",
   "execution_count": 5,
   "metadata": {},
   "outputs": [
    {
     "name": "stdout",
     "output_type": "stream",
     "text": [
      "Processando o arquivo de áudio...\n",
      "Texto reconhecido: AI enables us to build amazing software that can improve healthcare, enable people to overcome physical disadvantages, empower smart infrastructure, create incredible entertainment experiences, and even save the planet.\n"
     ]
    }
   ],
   "source": [
    " # Configurar a chave de assinatura e a região\n",
    "speech_key = os.environ.get(\"SPEECH_KEY\")\n",
    "service_region = \"eastus\"\n",
    "# Caminho do seu arquivo .m4a aqui\n",
    "file_path = \"resources/audio/WhatAICanDo.m4a\"\n",
    "speech_to_text_from_file(file_path, speech_key, service_region)\n"
   ]
  },
  {
   "cell_type": "code",
   "execution_count": null,
   "metadata": {},
   "outputs": [],
   "source": []
  }
 ],
 "metadata": {
  "kernelspec": {
   "display_name": "env-DIO",
   "language": "python",
   "name": "env-dio"
  },
  "language_info": {
   "codemirror_mode": {
    "name": "ipython",
    "version": 3
   },
   "file_extension": ".py",
   "mimetype": "text/x-python",
   "name": "python",
   "nbconvert_exporter": "python",
   "pygments_lexer": "ipython3",
   "version": "3.13.1"
  }
 },
 "nbformat": 4,
 "nbformat_minor": 2
}
