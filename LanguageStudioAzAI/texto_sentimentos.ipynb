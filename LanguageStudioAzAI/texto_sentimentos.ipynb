{
 "cells": [
  {
   "cell_type": "code",
   "execution_count": 1,
   "metadata": {},
   "outputs": [
    {
     "data": {
      "text/plain": [
       "True"
      ]
     },
     "execution_count": 1,
     "metadata": {},
     "output_type": "execute_result"
    }
   ],
   "source": [
    "#  Carregar chaves de acesso de arquivo .env\n",
    "import os\n",
    "from dotenv import load_dotenv\n",
    "\n",
    "load_dotenv()"
   ]
  },
  {
   "cell_type": "code",
   "execution_count": 2,
   "metadata": {},
   "outputs": [],
   "source": [
    "from azure.ai.textanalytics import TextAnalyticsClient\n",
    "from azure.core.credentials import AzureKeyCredential\n",
    "\n",
    "def authenticate_client(subscription_key, endpoint):\n",
    "    ta_credential = AzureKeyCredential(subscription_key)\n",
    "    text_analytics_client = TextAnalyticsClient(\n",
    "            endpoint=endpoint, \n",
    "            credential=ta_credential)\n",
    "    return text_analytics_client\n",
    "\n",
    "def analyze_sentiments(client, documents):\n",
    "    response = client.analyze_sentiment(documents=documents)\n",
    "    return response\n",
    "\n",
    "def read_text_files(file_paths):\n",
    "    documents = []\n",
    "    for file_path in file_paths:\n",
    "        with open(file_path, \"r\", encoding=\"utf-8\") as file:\n",
    "            text = file.read()\n",
    "            documents.append(text)\n",
    "    return documents"
   ]
  },
  {
   "cell_type": "code",
   "execution_count": 8,
   "metadata": {},
   "outputs": [
    {
     "name": "stdout",
     "output_type": "stream",
     "text": [
      "Documento 1:\n",
      " Tired hotel with poor service\n",
      " The Royal Hotel, London, United Kingdom\n",
      " 5/6/2018\n",
      " This is an old hotel (has been around since 1950's) and the room furnishings are average - becoming a bit old now and require changing. The internet didn't work and had to come to one of their office rooms to check in for my flight home. The website says it's close to the British Museum, but it's too far to walk.\n",
      "Sentimento: negative\n",
      "Confiança no Sentimento:\n",
      "  positive: 0.00\n",
      "  neutral: 0.09\n",
      "  negative: 0.91\n",
      "Documento 2:\n",
      " Good Hotel and staff\n",
      " The Royal Hotel, London, UK\n",
      " 3/2/2018\n",
      " Clean rooms, good service, great location near Buckingham Palace and Westminster Abbey, and so on. We thoroughly enjoyed our stay. The courtyard is very peaceful and we went to a restaurant which is part of the same group and is Indian ( West coast so plenty of fish) with a Michelin Star. We had the taster menu which was fabulous. The rooms were very well appointed with a kitchen, lounge, bedroom and enormous bathroom. Thoroughly recommended.\n",
      "Sentimento: positive\n",
      "Confiança no Sentimento:\n",
      "  positive: 0.98\n",
      "  neutral: 0.02\n",
      "  negative: 0.00\n"
     ]
    }
   ],
   "source": [
    "subscription_key = os.environ.get(\"LANGUAGE_KEY\")\n",
    "endpoint = os.environ.get(\"LANGUAGE_ENDPOINT\")\n",
    "\n",
    "# Lista dos caminhos dos arquivos de texto\n",
    "file_paths = [\"resources/text/review1.txt\", \"resources/text/review2.txt\"]\n",
    "\n",
    "client = authenticate_client(subscription_key, endpoint)\n",
    "\n",
    "documents = read_text_files(file_paths)\n",
    "\n",
    "sentiment_response = analyze_sentiments(client, documents)\n",
    "\n",
    "# Exibir resultados da análise de sentimento\n",
    "for idx, document in enumerate(sentiment_response):\n",
    "    print(f\"Documento {idx + 1}:\")\n",
    "    print(documents[idx])\n",
    "    print(f\"Sentimento: {document.sentiment}\")\n",
    "    print(\"Confiança no Sentimento:\")\n",
    "    for sentiment, score in document.confidence_scores.items():\n",
    "        print(f\"  {sentiment}: {score:.2f}\")\n"
   ]
  },
  {
   "cell_type": "code",
   "execution_count": null,
   "metadata": {},
   "outputs": [],
   "source": []
  }
 ],
 "metadata": {
  "kernelspec": {
   "display_name": "env-DIO",
   "language": "python",
   "name": "env-dio"
  },
  "language_info": {
   "codemirror_mode": {
    "name": "ipython",
    "version": 3
   },
   "file_extension": ".py",
   "mimetype": "text/x-python",
   "name": "python",
   "nbconvert_exporter": "python",
   "pygments_lexer": "ipython3",
   "version": "3.13.1"
  }
 },
 "nbformat": 4,
 "nbformat_minor": 2
}
